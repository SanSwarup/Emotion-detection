{
 "cells": [
  {
   "cell_type": "code",
   "execution_count": 1,
   "id": "1c8c929e-4963-4e66-8d8a-9ebb67f71e43",
   "metadata": {},
   "outputs": [
    {
     "name": "stdout",
     "output_type": "stream",
     "text": [
      "Requirement already satisfied: numpy in c:\\users\\san\\anaconda3\\lib\\site-packages (1.26.4)\n"
     ]
    }
   ],
   "source": [
    "#!pip install numpy"
   ]
  },
  {
   "cell_type": "code",
   "execution_count": 18,
   "id": "36a11188-f8b7-4f22-b6e5-9dc6c15fb526",
   "metadata": {
    "scrolled": true
   },
   "outputs": [
    {
     "name": "stdout",
     "output_type": "stream",
     "text": [
      "Requirement already satisfied: tensorflow in c:\\users\\san\\anaconda3\\lib\\site-packages (2.19.0)\n",
      "Requirement already satisfied: keras in c:\\users\\san\\anaconda3\\lib\\site-packages (3.9.0)\n",
      "Requirement already satisfied: absl-py>=1.0.0 in c:\\users\\san\\anaconda3\\lib\\site-packages (from tensorflow) (2.2.0)\n",
      "Requirement already satisfied: astunparse>=1.6.0 in c:\\users\\san\\anaconda3\\lib\\site-packages (from tensorflow) (1.6.3)\n",
      "Requirement already satisfied: flatbuffers>=24.3.25 in c:\\users\\san\\anaconda3\\lib\\site-packages (from tensorflow) (25.2.10)\n",
      "Requirement already satisfied: gast!=0.5.0,!=0.5.1,!=0.5.2,>=0.2.1 in c:\\users\\san\\anaconda3\\lib\\site-packages (from tensorflow) (0.6.0)\n",
      "Requirement already satisfied: google-pasta>=0.1.1 in c:\\users\\san\\anaconda3\\lib\\site-packages (from tensorflow) (0.2.0)\n",
      "Requirement already satisfied: libclang>=13.0.0 in c:\\users\\san\\anaconda3\\lib\\site-packages (from tensorflow) (18.1.1)\n",
      "Requirement already satisfied: opt-einsum>=2.3.2 in c:\\users\\san\\anaconda3\\lib\\site-packages (from tensorflow) (3.4.0)\n",
      "Requirement already satisfied: packaging in c:\\users\\san\\anaconda3\\lib\\site-packages (from tensorflow) (24.1)\n",
      "Requirement already satisfied: protobuf!=4.21.0,!=4.21.1,!=4.21.2,!=4.21.3,!=4.21.4,!=4.21.5,<6.0.0dev,>=3.20.3 in c:\\users\\san\\anaconda3\\lib\\site-packages (from tensorflow) (4.25.3)\n",
      "Requirement already satisfied: requests<3,>=2.21.0 in c:\\users\\san\\anaconda3\\lib\\site-packages (from tensorflow) (2.32.3)\n",
      "Requirement already satisfied: setuptools in c:\\users\\san\\anaconda3\\lib\\site-packages (from tensorflow) (75.1.0)\n",
      "Requirement already satisfied: six>=1.12.0 in c:\\users\\san\\anaconda3\\lib\\site-packages (from tensorflow) (1.16.0)\n",
      "Requirement already satisfied: termcolor>=1.1.0 in c:\\users\\san\\anaconda3\\lib\\site-packages (from tensorflow) (2.5.0)\n",
      "Requirement already satisfied: typing-extensions>=3.6.6 in c:\\users\\san\\anaconda3\\lib\\site-packages (from tensorflow) (4.11.0)\n",
      "Requirement already satisfied: wrapt>=1.11.0 in c:\\users\\san\\anaconda3\\lib\\site-packages (from tensorflow) (1.14.1)\n",
      "Requirement already satisfied: grpcio<2.0,>=1.24.3 in c:\\users\\san\\anaconda3\\lib\\site-packages (from tensorflow) (1.71.0)\n",
      "Requirement already satisfied: tensorboard~=2.19.0 in c:\\users\\san\\anaconda3\\lib\\site-packages (from tensorflow) (2.19.0)\n",
      "Requirement already satisfied: numpy<2.2.0,>=1.26.0 in c:\\users\\san\\anaconda3\\lib\\site-packages (from tensorflow) (1.26.4)\n",
      "Requirement already satisfied: h5py>=3.11.0 in c:\\users\\san\\anaconda3\\lib\\site-packages (from tensorflow) (3.11.0)\n",
      "Requirement already satisfied: ml-dtypes<1.0.0,>=0.5.1 in c:\\users\\san\\anaconda3\\lib\\site-packages (from tensorflow) (0.5.1)\n",
      "Requirement already satisfied: rich in c:\\users\\san\\anaconda3\\lib\\site-packages (from keras) (13.7.1)\n",
      "Requirement already satisfied: namex in c:\\users\\san\\anaconda3\\lib\\site-packages (from keras) (0.0.8)\n",
      "Requirement already satisfied: optree in c:\\users\\san\\anaconda3\\lib\\site-packages (from keras) (0.14.1)\n",
      "Requirement already satisfied: wheel<1.0,>=0.23.0 in c:\\users\\san\\anaconda3\\lib\\site-packages (from astunparse>=1.6.0->tensorflow) (0.44.0)\n",
      "Requirement already satisfied: charset-normalizer<4,>=2 in c:\\users\\san\\anaconda3\\lib\\site-packages (from requests<3,>=2.21.0->tensorflow) (3.3.2)\n",
      "Requirement already satisfied: idna<4,>=2.5 in c:\\users\\san\\anaconda3\\lib\\site-packages (from requests<3,>=2.21.0->tensorflow) (3.7)\n",
      "Requirement already satisfied: urllib3<3,>=1.21.1 in c:\\users\\san\\anaconda3\\lib\\site-packages (from requests<3,>=2.21.0->tensorflow) (2.2.3)\n",
      "Requirement already satisfied: certifi>=2017.4.17 in c:\\users\\san\\anaconda3\\lib\\site-packages (from requests<3,>=2.21.0->tensorflow) (2025.1.31)\n",
      "Requirement already satisfied: markdown>=2.6.8 in c:\\users\\san\\anaconda3\\lib\\site-packages (from tensorboard~=2.19.0->tensorflow) (3.4.1)\n",
      "Requirement already satisfied: tensorboard-data-server<0.8.0,>=0.7.0 in c:\\users\\san\\anaconda3\\lib\\site-packages (from tensorboard~=2.19.0->tensorflow) (0.7.2)\n",
      "Requirement already satisfied: werkzeug>=1.0.1 in c:\\users\\san\\anaconda3\\lib\\site-packages (from tensorboard~=2.19.0->tensorflow) (3.0.3)\n",
      "Requirement already satisfied: markdown-it-py>=2.2.0 in c:\\users\\san\\anaconda3\\lib\\site-packages (from rich->keras) (2.2.0)\n",
      "Requirement already satisfied: pygments<3.0.0,>=2.13.0 in c:\\users\\san\\anaconda3\\lib\\site-packages (from rich->keras) (2.15.1)\n",
      "Requirement already satisfied: mdurl~=0.1 in c:\\users\\san\\anaconda3\\lib\\site-packages (from markdown-it-py>=2.2.0->rich->keras) (0.1.0)\n",
      "Requirement already satisfied: MarkupSafe>=2.1.1 in c:\\users\\san\\anaconda3\\lib\\site-packages (from werkzeug>=1.0.1->tensorboard~=2.19.0->tensorflow) (2.1.3)\n"
     ]
    }
   ],
   "source": [
    "!pip install tensorflow keras"
   ]
  },
  {
   "cell_type": "code",
   "execution_count": 3,
   "id": "212cafc8-6ec9-40ab-b35e-c31b321b22fb",
   "metadata": {
    "scrolled": true
   },
   "outputs": [
    {
     "name": "stdout",
     "output_type": "stream",
     "text": [
      "Requirement already satisfied: keras in c:\\users\\san\\anaconda3\\lib\\site-packages (3.9.0)\n",
      "Requirement already satisfied: absl-py in c:\\users\\san\\anaconda3\\lib\\site-packages (from keras) (2.2.0)\n",
      "Requirement already satisfied: numpy in c:\\users\\san\\anaconda3\\lib\\site-packages (from keras) (1.26.4)\n",
      "Requirement already satisfied: rich in c:\\users\\san\\anaconda3\\lib\\site-packages (from keras) (13.7.1)\n",
      "Requirement already satisfied: namex in c:\\users\\san\\anaconda3\\lib\\site-packages (from keras) (0.0.8)\n",
      "Requirement already satisfied: h5py in c:\\users\\san\\anaconda3\\lib\\site-packages (from keras) (3.11.0)\n",
      "Requirement already satisfied: optree in c:\\users\\san\\anaconda3\\lib\\site-packages (from keras) (0.14.1)\n",
      "Requirement already satisfied: ml-dtypes in c:\\users\\san\\anaconda3\\lib\\site-packages (from keras) (0.5.1)\n",
      "Requirement already satisfied: packaging in c:\\users\\san\\anaconda3\\lib\\site-packages (from keras) (24.1)\n",
      "Requirement already satisfied: typing-extensions>=4.5.0 in c:\\users\\san\\anaconda3\\lib\\site-packages (from optree->keras) (4.11.0)\n",
      "Requirement already satisfied: markdown-it-py>=2.2.0 in c:\\users\\san\\anaconda3\\lib\\site-packages (from rich->keras) (2.2.0)\n",
      "Requirement already satisfied: pygments<3.0.0,>=2.13.0 in c:\\users\\san\\anaconda3\\lib\\site-packages (from rich->keras) (2.15.1)\n",
      "Requirement already satisfied: mdurl~=0.1 in c:\\users\\san\\anaconda3\\lib\\site-packages (from markdown-it-py>=2.2.0->rich->keras) (0.1.0)\n"
     ]
    }
   ],
   "source": [
    "#!pip install keras\n"
   ]
  },
  {
   "cell_type": "code",
   "execution_count": 4,
   "id": "c198a2d1-8417-4f13-95db-739ac48a92b4",
   "metadata": {
    "scrolled": true
   },
   "outputs": [
    {
     "name": "stdout",
     "output_type": "stream",
     "text": [
      "Requirement already satisfied: pandas in c:\\users\\san\\anaconda3\\lib\\site-packages (2.2.2)\n",
      "Requirement already satisfied: numpy>=1.26.0 in c:\\users\\san\\anaconda3\\lib\\site-packages (from pandas) (1.26.4)\n",
      "Requirement already satisfied: python-dateutil>=2.8.2 in c:\\users\\san\\anaconda3\\lib\\site-packages (from pandas) (2.9.0.post0)\n",
      "Requirement already satisfied: pytz>=2020.1 in c:\\users\\san\\anaconda3\\lib\\site-packages (from pandas) (2024.1)\n",
      "Requirement already satisfied: tzdata>=2022.7 in c:\\users\\san\\anaconda3\\lib\\site-packages (from pandas) (2023.3)\n",
      "Requirement already satisfied: six>=1.5 in c:\\users\\san\\anaconda3\\lib\\site-packages (from python-dateutil>=2.8.2->pandas) (1.16.0)\n"
     ]
    }
   ],
   "source": [
    "#!pip install pandas"
   ]
  },
  {
   "cell_type": "code",
   "execution_count": 6,
   "id": "65f949e2-6c41-4323-95cc-da48449dd33b",
   "metadata": {
    "scrolled": true
   },
   "outputs": [
    {
     "name": "stdout",
     "output_type": "stream",
     "text": [
      "Requirement already satisfied: scikit-learn in c:\\users\\san\\anaconda3\\lib\\site-packages (1.5.1)\n",
      "Requirement already satisfied: numpy>=1.19.5 in c:\\users\\san\\anaconda3\\lib\\site-packages (from scikit-learn) (1.26.4)\n",
      "Requirement already satisfied: scipy>=1.6.0 in c:\\users\\san\\anaconda3\\lib\\site-packages (from scikit-learn) (1.13.1)\n",
      "Requirement already satisfied: joblib>=1.2.0 in c:\\users\\san\\anaconda3\\lib\\site-packages (from scikit-learn) (1.4.2)\n",
      "Requirement already satisfied: threadpoolctl>=3.1.0 in c:\\users\\san\\anaconda3\\lib\\site-packages (from scikit-learn) (3.5.0)\n"
     ]
    }
   ],
   "source": [
    "#!pip install scikit-learn"
   ]
  },
  {
   "cell_type": "code",
   "execution_count": 7,
   "id": "564f9c53-16e2-40a6-93c0-74f9a6d3e66c",
   "metadata": {
    "scrolled": true
   },
   "outputs": [
    {
     "name": "stdout",
     "output_type": "stream",
     "text": [
      "Requirement already satisfied: seaborn in c:\\users\\san\\anaconda3\\lib\\site-packages (0.13.2)\n",
      "Requirement already satisfied: numpy!=1.24.0,>=1.20 in c:\\users\\san\\anaconda3\\lib\\site-packages (from seaborn) (1.26.4)\n",
      "Requirement already satisfied: pandas>=1.2 in c:\\users\\san\\anaconda3\\lib\\site-packages (from seaborn) (2.2.2)\n",
      "Requirement already satisfied: matplotlib!=3.6.1,>=3.4 in c:\\users\\san\\anaconda3\\lib\\site-packages (from seaborn) (3.9.2)\n",
      "Requirement already satisfied: contourpy>=1.0.1 in c:\\users\\san\\anaconda3\\lib\\site-packages (from matplotlib!=3.6.1,>=3.4->seaborn) (1.2.0)\n",
      "Requirement already satisfied: cycler>=0.10 in c:\\users\\san\\anaconda3\\lib\\site-packages (from matplotlib!=3.6.1,>=3.4->seaborn) (0.11.0)\n",
      "Requirement already satisfied: fonttools>=4.22.0 in c:\\users\\san\\anaconda3\\lib\\site-packages (from matplotlib!=3.6.1,>=3.4->seaborn) (4.51.0)\n",
      "Requirement already satisfied: kiwisolver>=1.3.1 in c:\\users\\san\\anaconda3\\lib\\site-packages (from matplotlib!=3.6.1,>=3.4->seaborn) (1.4.4)\n",
      "Requirement already satisfied: packaging>=20.0 in c:\\users\\san\\anaconda3\\lib\\site-packages (from matplotlib!=3.6.1,>=3.4->seaborn) (24.1)\n",
      "Requirement already satisfied: pillow>=8 in c:\\users\\san\\anaconda3\\lib\\site-packages (from matplotlib!=3.6.1,>=3.4->seaborn) (10.4.0)\n",
      "Requirement already satisfied: pyparsing>=2.3.1 in c:\\users\\san\\anaconda3\\lib\\site-packages (from matplotlib!=3.6.1,>=3.4->seaborn) (3.1.2)\n",
      "Requirement already satisfied: python-dateutil>=2.7 in c:\\users\\san\\anaconda3\\lib\\site-packages (from matplotlib!=3.6.1,>=3.4->seaborn) (2.9.0.post0)\n",
      "Requirement already satisfied: pytz>=2020.1 in c:\\users\\san\\anaconda3\\lib\\site-packages (from pandas>=1.2->seaborn) (2024.1)\n",
      "Requirement already satisfied: tzdata>=2022.7 in c:\\users\\san\\anaconda3\\lib\\site-packages (from pandas>=1.2->seaborn) (2023.3)\n",
      "Requirement already satisfied: six>=1.5 in c:\\users\\san\\anaconda3\\lib\\site-packages (from python-dateutil>=2.7->matplotlib!=3.6.1,>=3.4->seaborn) (1.16.0)\n"
     ]
    }
   ],
   "source": [
    "#!pip install seaborn\n",
    "\n"
   ]
  },
  {
   "cell_type": "code",
   "execution_count": 10,
   "id": "9a435dd0-e351-4f35-8ada-7472e3467a2b",
   "metadata": {
    "scrolled": true
   },
   "outputs": [
    {
     "name": "stdout",
     "output_type": "stream",
     "text": [
      "Requirement already satisfied: opencv-python in c:\\users\\san\\anaconda3\\lib\\site-packages (4.11.0.86)\n",
      "Requirement already satisfied: numpy>=1.21.2 in c:\\users\\san\\anaconda3\\lib\\site-packages (from opencv-python) (1.26.4)\n"
     ]
    }
   ],
   "source": [
    "#!pip install opencv-python"
   ]
  },
  {
   "cell_type": "code",
   "execution_count": 11,
   "id": "82a7782d-bfa6-45bc-984f-c6b5e0c07929",
   "metadata": {
    "scrolled": true
   },
   "outputs": [
    {
     "name": "stdout",
     "output_type": "stream",
     "text": [
      "Requirement already satisfied: nltk in c:\\users\\san\\anaconda3\\lib\\site-packages (3.9.1)\n",
      "Requirement already satisfied: click in c:\\users\\san\\anaconda3\\lib\\site-packages (from nltk) (8.1.7)\n",
      "Requirement already satisfied: joblib in c:\\users\\san\\anaconda3\\lib\\site-packages (from nltk) (1.4.2)\n",
      "Requirement already satisfied: regex>=2021.8.3 in c:\\users\\san\\anaconda3\\lib\\site-packages (from nltk) (2024.9.11)\n",
      "Requirement already satisfied: tqdm in c:\\users\\san\\anaconda3\\lib\\site-packages (from nltk) (4.66.5)\n",
      "Requirement already satisfied: colorama in c:\\users\\san\\anaconda3\\lib\\site-packages (from click->nltk) (0.4.6)\n"
     ]
    }
   ],
   "source": [
    "#!pip install nltk"
   ]
  },
  {
   "cell_type": "code",
   "execution_count": 25,
   "id": "b196980a-b357-4bda-9b46-83c584c48251",
   "metadata": {
    "scrolled": true
   },
   "outputs": [
    {
     "name": "stdout",
     "output_type": "stream",
     "text": [
      "Requirement already satisfied: h5py in c:\\users\\san\\anaconda3\\lib\\site-packages (3.11.0)\n",
      "Requirement already satisfied: numpy>=1.17.3 in c:\\users\\san\\anaconda3\\lib\\site-packages (from h5py) (1.26.4)\n"
     ]
    }
   ],
   "source": [
    "!pip install h5py"
   ]
  },
  {
   "cell_type": "code",
   "execution_count": 1,
   "id": "31d5ca54-9ac9-4d0b-a596-583cd5378190",
   "metadata": {},
   "outputs": [
    {
     "name": "stdout",
     "output_type": "stream",
     "text": [
      "Requirement already satisfied: opencv-python in c:\\users\\san\\anaconda3\\lib\\site-packages (4.11.0.86)\n",
      "Requirement already satisfied: numpy in c:\\users\\san\\anaconda3\\lib\\site-packages (1.26.4)\n",
      "Requirement already satisfied: tensorflow in c:\\users\\san\\anaconda3\\lib\\site-packages (2.19.0)\n",
      "Requirement already satisfied: mtcnn in c:\\users\\san\\anaconda3\\lib\\site-packages (1.0.0)\n",
      "Requirement already satisfied: matplotlib in c:\\users\\san\\anaconda3\\lib\\site-packages (3.9.2)\n",
      "Requirement already satisfied: absl-py>=1.0.0 in c:\\users\\san\\anaconda3\\lib\\site-packages (from tensorflow) (2.2.0)\n",
      "Requirement already satisfied: astunparse>=1.6.0 in c:\\users\\san\\anaconda3\\lib\\site-packages (from tensorflow) (1.6.3)\n",
      "Requirement already satisfied: flatbuffers>=24.3.25 in c:\\users\\san\\anaconda3\\lib\\site-packages (from tensorflow) (25.2.10)\n",
      "Requirement already satisfied: gast!=0.5.0,!=0.5.1,!=0.5.2,>=0.2.1 in c:\\users\\san\\anaconda3\\lib\\site-packages (from tensorflow) (0.6.0)\n",
      "Requirement already satisfied: google-pasta>=0.1.1 in c:\\users\\san\\anaconda3\\lib\\site-packages (from tensorflow) (0.2.0)\n",
      "Requirement already satisfied: libclang>=13.0.0 in c:\\users\\san\\anaconda3\\lib\\site-packages (from tensorflow) (18.1.1)\n",
      "Requirement already satisfied: opt-einsum>=2.3.2 in c:\\users\\san\\anaconda3\\lib\\site-packages (from tensorflow) (3.4.0)\n",
      "Requirement already satisfied: packaging in c:\\users\\san\\anaconda3\\lib\\site-packages (from tensorflow) (24.1)\n",
      "Requirement already satisfied: protobuf!=4.21.0,!=4.21.1,!=4.21.2,!=4.21.3,!=4.21.4,!=4.21.5,<6.0.0dev,>=3.20.3 in c:\\users\\san\\anaconda3\\lib\\site-packages (from tensorflow) (4.25.3)\n",
      "Requirement already satisfied: requests<3,>=2.21.0 in c:\\users\\san\\anaconda3\\lib\\site-packages (from tensorflow) (2.32.3)\n",
      "Requirement already satisfied: setuptools in c:\\users\\san\\anaconda3\\lib\\site-packages (from tensorflow) (75.1.0)\n",
      "Requirement already satisfied: six>=1.12.0 in c:\\users\\san\\anaconda3\\lib\\site-packages (from tensorflow) (1.16.0)\n",
      "Requirement already satisfied: termcolor>=1.1.0 in c:\\users\\san\\anaconda3\\lib\\site-packages (from tensorflow) (2.5.0)\n",
      "Requirement already satisfied: typing-extensions>=3.6.6 in c:\\users\\san\\anaconda3\\lib\\site-packages (from tensorflow) (4.11.0)\n",
      "Requirement already satisfied: wrapt>=1.11.0 in c:\\users\\san\\anaconda3\\lib\\site-packages (from tensorflow) (1.14.1)\n",
      "Requirement already satisfied: grpcio<2.0,>=1.24.3 in c:\\users\\san\\anaconda3\\lib\\site-packages (from tensorflow) (1.71.0)\n",
      "Requirement already satisfied: tensorboard~=2.19.0 in c:\\users\\san\\anaconda3\\lib\\site-packages (from tensorflow) (2.19.0)\n",
      "Requirement already satisfied: keras>=3.5.0 in c:\\users\\san\\anaconda3\\lib\\site-packages (from tensorflow) (3.9.0)\n",
      "Requirement already satisfied: h5py>=3.11.0 in c:\\users\\san\\anaconda3\\lib\\site-packages (from tensorflow) (3.11.0)\n",
      "Requirement already satisfied: ml-dtypes<1.0.0,>=0.5.1 in c:\\users\\san\\anaconda3\\lib\\site-packages (from tensorflow) (0.5.1)\n",
      "Requirement already satisfied: joblib>=1.4.2 in c:\\users\\san\\anaconda3\\lib\\site-packages (from mtcnn) (1.4.2)\n",
      "Requirement already satisfied: lz4>=4.3.3 in c:\\users\\san\\anaconda3\\lib\\site-packages (from mtcnn) (4.4.3)\n",
      "Requirement already satisfied: contourpy>=1.0.1 in c:\\users\\san\\anaconda3\\lib\\site-packages (from matplotlib) (1.2.0)\n",
      "Requirement already satisfied: cycler>=0.10 in c:\\users\\san\\anaconda3\\lib\\site-packages (from matplotlib) (0.11.0)\n",
      "Requirement already satisfied: fonttools>=4.22.0 in c:\\users\\san\\anaconda3\\lib\\site-packages (from matplotlib) (4.51.0)\n",
      "Requirement already satisfied: kiwisolver>=1.3.1 in c:\\users\\san\\anaconda3\\lib\\site-packages (from matplotlib) (1.4.4)\n",
      "Requirement already satisfied: pillow>=8 in c:\\users\\san\\anaconda3\\lib\\site-packages (from matplotlib) (10.4.0)\n",
      "Requirement already satisfied: pyparsing>=2.3.1 in c:\\users\\san\\anaconda3\\lib\\site-packages (from matplotlib) (3.1.2)\n",
      "Requirement already satisfied: python-dateutil>=2.7 in c:\\users\\san\\anaconda3\\lib\\site-packages (from matplotlib) (2.9.0.post0)\n",
      "Requirement already satisfied: wheel<1.0,>=0.23.0 in c:\\users\\san\\anaconda3\\lib\\site-packages (from astunparse>=1.6.0->tensorflow) (0.44.0)\n",
      "Requirement already satisfied: rich in c:\\users\\san\\anaconda3\\lib\\site-packages (from keras>=3.5.0->tensorflow) (13.7.1)\n",
      "Requirement already satisfied: namex in c:\\users\\san\\anaconda3\\lib\\site-packages (from keras>=3.5.0->tensorflow) (0.0.8)\n",
      "Requirement already satisfied: optree in c:\\users\\san\\anaconda3\\lib\\site-packages (from keras>=3.5.0->tensorflow) (0.14.1)\n",
      "Requirement already satisfied: charset-normalizer<4,>=2 in c:\\users\\san\\anaconda3\\lib\\site-packages (from requests<3,>=2.21.0->tensorflow) (3.3.2)\n",
      "Requirement already satisfied: idna<4,>=2.5 in c:\\users\\san\\anaconda3\\lib\\site-packages (from requests<3,>=2.21.0->tensorflow) (3.7)\n",
      "Requirement already satisfied: urllib3<3,>=1.21.1 in c:\\users\\san\\anaconda3\\lib\\site-packages (from requests<3,>=2.21.0->tensorflow) (2.2.3)\n",
      "Requirement already satisfied: certifi>=2017.4.17 in c:\\users\\san\\anaconda3\\lib\\site-packages (from requests<3,>=2.21.0->tensorflow) (2025.1.31)\n",
      "Requirement already satisfied: markdown>=2.6.8 in c:\\users\\san\\anaconda3\\lib\\site-packages (from tensorboard~=2.19.0->tensorflow) (3.4.1)\n",
      "Requirement already satisfied: tensorboard-data-server<0.8.0,>=0.7.0 in c:\\users\\san\\anaconda3\\lib\\site-packages (from tensorboard~=2.19.0->tensorflow) (0.7.2)\n",
      "Requirement already satisfied: werkzeug>=1.0.1 in c:\\users\\san\\anaconda3\\lib\\site-packages (from tensorboard~=2.19.0->tensorflow) (3.0.3)\n",
      "Requirement already satisfied: MarkupSafe>=2.1.1 in c:\\users\\san\\anaconda3\\lib\\site-packages (from werkzeug>=1.0.1->tensorboard~=2.19.0->tensorflow) (2.1.3)\n",
      "Requirement already satisfied: markdown-it-py>=2.2.0 in c:\\users\\san\\anaconda3\\lib\\site-packages (from rich->keras>=3.5.0->tensorflow) (2.2.0)\n",
      "Requirement already satisfied: pygments<3.0.0,>=2.13.0 in c:\\users\\san\\anaconda3\\lib\\site-packages (from rich->keras>=3.5.0->tensorflow) (2.15.1)\n",
      "Requirement already satisfied: mdurl~=0.1 in c:\\users\\san\\anaconda3\\lib\\site-packages (from markdown-it-py>=2.2.0->rich->keras>=3.5.0->tensorflow) (0.1.0)\n"
     ]
    }
   ],
   "source": [
    "# Install necessary libraries\n",
    "!pip install opencv-python numpy tensorflow mtcnn matplotlib"
   ]
  },
  {
   "cell_type": "code",
   "execution_count": 19,
   "id": "a0bccb11-f7ef-4370-acd6-15d37875169f",
   "metadata": {},
   "outputs": [
    {
     "name": "stdout",
     "output_type": "stream",
     "text": [
      "OpenCV version: 4.11.0\n",
      "NumPy version: 1.26.4\n",
      "TensorFlow version: 2.19.0\n"
     ]
    }
   ],
   "source": [
    "import cv2\n",
    "import numpy as np\n",
    "import tensorflow as tf\n",
    "from tensorflow.keras.models import Sequential\n",
    "from tensorflow.keras.layers import Conv2D, MaxPooling2D, Flatten, Dense, Dropout\n",
    "from tensorflow.keras.preprocessing.image import img_to_array\n",
    "from tensorflow.keras.models import model_from_json\n",
    "from mtcnn.mtcnn import MTCNN\n",
    "import matplotlib.pyplot as plt\n",
    "import os\n",
    "\n",
    "print(f\"OpenCV version: {cv2.__version__}\")\n",
    "print(f\"NumPy version: {np.__version__}\")\n",
    "print(f\"TensorFlow version: {tf.__version__}\")"
   ]
  },
  {
   "cell_type": "code",
   "execution_count": 20,
   "id": "e0f5255c-bee3-47f9-abff-e8533376e103",
   "metadata": {},
   "outputs": [
    {
     "data": {
      "text/plain": [
       "'import tensorflow as tf\\n\\nmodel = tf.keras.models.load_model(\"Emotion_Detection_final//emotion_model.h5\")\\nmodel.summary()'"
      ]
     },
     "execution_count": 20,
     "metadata": {},
     "output_type": "execute_result"
    }
   ],
   "source": [
    "'''import tensorflow as tf\n",
    "\n",
    "model = tf.keras.models.load_model(\"Emotion_Detection_final//emotion_model.h5\")\n",
    "model.summary()'''"
   ]
  },
  {
   "cell_type": "code",
   "execution_count": 21,
   "id": "ea0915dc-c9f1-4707-acfa-cda71f9b628d",
   "metadata": {},
   "outputs": [],
   "source": [
    "# 1. Face Detection (Using MTCNN - You can switch to RetinaFace if needed)\n",
    "EMOTION_MODEL_PATH = \"emotion_model.h5\"\n",
    "EMOTION_LABELS=[\"Angry\", \"Disgust\", \"Fear\", \"Happy\", \"Sad\", \"Surprise\", \"Neutral\"]\n",
    "EMOTION_INPUT_SIZE = (48, 48)"
   ]
  },
  {
   "cell_type": "code",
   "execution_count": 22,
   "id": "99eece52-7d76-4ae4-a838-138045305829",
   "metadata": {},
   "outputs": [
    {
     "name": "stdout",
     "output_type": "stream",
     "text": [
      "[INFO] Initializing MTCNN face detector...\n",
      "[INFO] MTCNN initialized.\n"
     ]
    }
   ],
   "source": [
    "print(\"[INFO] Initializing MTCNN face detector...\")\n",
    "try:\n",
    "    # MTCNN detector might download weights on first run if not cached\n",
    "    face_detector = MTCNN()\n",
    "    print(\"[INFO] MTCNN initialized.\")\n",
    "except Exception as e:\n",
    "    print(f\"[ERROR] Could not initialize MTCNN: {e}\")\n",
    "    face_detector = None"
   ]
  },
  {
   "cell_type": "code",
   "execution_count": 1,
   "id": "56cb6abc-a797-48b5-a403-820133ef3729",
   "metadata": {},
   "outputs": [
    {
     "name": "stdout",
     "output_type": "stream",
     "text": [
      "[INFO] Loading emotion recognition model...\n",
      "[ERROR] An unexpected error occurred loading the emotion model: name 'tf' is not defined\n"
     ]
    }
   ],
   "source": [
    "print(\"[INFO] Loading emotion recognition model...\")\n",
    "try:\n",
    "    emotion_model = tf.keras.models.load_model(EMOTION_MODEL_PATH)\n",
    "    print(f\"[INFO] Emotion model loaded successfully. Expects input shape: {EMOTION_INPUT_SIZE}\")\n",
    "    # Optional: You can print model summary\n",
    "    # emotion_model.summary()\n",
    "except (IOError, ImportError, ValueError) as e:\n",
    "     print(f\"[ERROR] Could not load emotion model from {EMOTION_MODEL_PATH}: {e}\")\n",
    "     print(\"[INFO] Ensure the .h5 file exists and you have TensorFlow/Keras installed.\")\n",
    "     emotion_model = None\n",
    "except Exception as e:\n",
    "     print(f\"[ERROR] An unexpected error occurred loading the emotion model: {e}\")\n",
    "     emotion_model = None"
   ]
  },
  {
   "cell_type": "code",
   "execution_count": 2,
   "id": "9629c618-5947-4c8d-99ff-35f945d005fe",
   "metadata": {},
   "outputs": [],
   "source": [
    "def enhance_low_light(image_bgr):\n",
    "    \"\"\"Enhances a low-light BGR image using CLAHE on the L channel.\"\"\"\n",
    "    try:\n",
    "        lab = cv2.cvtColor(image_bgr, cv2.COLOR_BGR2LAB)\n",
    "        l, a, b = cv2.split(lab)\n",
    "        clahe = cv2.createCLAHE(clipLimit=2.5, tileGridSize=(8, 8)) # Adjusted clipLimit slightly\n",
    "        cl = clahe.apply(l)\n",
    "        limg = cv2.merge((cl, a, b))\n",
    "        enhanced_image = cv2.cvtColor(limg, cv2.COLOR_LAB2BGR)\n",
    "        return enhanced_image\n",
    "    except cv2.error as e:\n",
    "        print(f\"[WARN] Could not enhance image with CLAHE: {e}. Returning original.\")\n",
    "        return image_bgr\n",
    "    except Exception as e:\n",
    "        print(f\"[WARN] General error during enhancement: {e}. Returning original.\")\n",
    "        return image_bgr"
   ]
  },
  {
   "cell_type": "code",
   "execution_count": null,
   "id": "24ab816c-bb88-4cad-96b4-9191991f2e53",
   "metadata": {},
   "outputs": [],
   "source": [
    "def detect_and_predict_emotions(image_path, enhance_if_lowlight=True):\n",
    "    \"\"\"\n",
    "    Loads an image, detects faces using MTCNN, optionally enhances,\n",
    "    predicts emotions, and displays the result.\n",
    "    \"\"\"\n",
    "    if not face_detector or not emotion_model:\n",
    "        print(\"[ERROR] Required models (MTCNN or Emotion Model) not loaded. Cannot proceed.\")\n",
    "        return\n",
    "\n",
    "    # Load the image\n",
    "    img_bgr = cv2.imread(image_path)\n",
    "    if img_bgr is None:\n",
    "        print(f\"[ERROR] Could not read image: {image_path}\")\n",
    "        return\n",
    "\n",
    "    print(f\"[INFO] Processing image: {image_path}\")\n",
    "    vis_image = img_bgr.copy() # Image for drawing results\n",
    "\n",
    "    # --- Optional Low-Light Enhancement ---\n",
    "    if enhance_if_lowlight:\n",
    "        # Simple check: if average pixel intensity is low, enhance\n",
    "        # You might need a more sophisticated check\n",
    "        gray_check = cv2.cvtColor(img_bgr, cv2.COLOR_BGR2GRAY)\n",
    "        mean_intensity = np.mean(gray_check)\n",
    "        print(f\"[INFO] Average pixel intensity: {mean_intensity:.2f}\")\n",
    "        if mean_intensity < 70: # Threshold for 'low-light' (adjust as needed)\n",
    "            print(\"[INFO] Low light detected, applying enhancement...\")\n",
    "            vis_image = enhance_low_light(vis_image)\n",
    "            print(\"[INFO] Enhancement applied.\")\n",
    "        else:\n",
    "            print(\"[INFO] Sufficient light, skipping enhancement.\")"
   ]
  },
  {
   "cell_type": "code",
   "execution_count": null,
   "id": "7a7c563a-7330-43b9-a0d7-bb683f8b3fee",
   "metadata": {},
   "outputs": [],
   "source": [
    "    # MTCNN expects RGB format\n",
    "    img_rgb = cv2.cvtColor(vis_image, cv2.COLOR_BGR2RGB)\n",
    "\n",
    "    # --- Face Detection ---\n",
    "    print(\"[INFO] Detecting faces using MTCNN...\")\n",
    "    detections = face_detector.detect_faces(img_rgb)\n",
    "    print(f\"[INFO] Found {len(detections)} face(s).\")\n",
    "\n",
    "    if not detections:\n",
    "        print(\"[INFO] No faces detected.\")\n",
    "    else:\n",
    "        # --- Emotion Prediction Loop ---\n",
    "        for face_info in detections:\n",
    "            # MTCNN returns confidence and bounding box [x, y, width, height]\n",
    "            confidence = face_info['confidence']\n",
    "            if confidence < 0.90: # Confidence threshold for MTCNN detection\n",
    "                 print(f\"[INFO] Skipping face with low confidence: {confidence:.3f}\")\n",
    "                 continue\n",
    "\n",
    "            x, y, w, h = face_info['box']\n",
    "            # Ensure coordinates are non-negative after potential floating point issues\n",
    "            x, y = max(0, x), max(0, y)\n",
    "\n",
    "            # Extract face ROI from the *potentially enhanced* BGR image\n",
    "            face_roi_bgr = vis_image[y : y + h, x : x + w]\n",
    "\n",
    "            if face_roi_bgr.size == 0:\n",
    "                print(\"[WARN] Extracted face ROI is empty, skipping.\")\n",
    "                continue\n",
    "\n",
    "            try:\n",
    "                # Preprocess ROI for the emotion model\n",
    "                face_roi_gray = cv2.cvtColor(face_roi_bgr, cv2.COLOR_BGR2GRAY)\n",
    "                face_roi_resized = cv2.resize(face_roi_gray, EMOTION_INPUT_SIZE, interpolation=cv2.INTER_AREA)\n",
    "\n",
    "                # Normalize pixel values (common: 0-1 range)\n",
    "                face_roi_normalized = face_roi_resized.astype(\"float32\") / 255.0\n",
    "\n",
    "                # Expand dimensions to match model input (batch_size, height, width, channels)\n",
    "                # Model might expect (1, 48, 48, 1) if grayscale\n",
    "                face_roi_expanded = np.expand_dims(face_roi_normalized, axis=-1) # Add channel dim\n",
    "                face_roi_final = np.expand_dims(face_roi_expanded, axis=0)    # Add batch dim\n",
    "\n",
    "                # Predict emotion\n",
    "                predictions = emotion_model.predict(face_roi_final)\n",
    "                emotion_index = np.argmax(predictions[0])\n",
    "                emotion_label = EMOTION_LABELS[emotion_index]\n",
    "                emotion_confidence = predictions[0][emotion_index]\n",
    "\n",
    "                # Draw bounding box and label on the visualization image (vis_image is BGR)\n",
    "                label_text = f\"{emotion_label} ({emotion_confidence*100:.1f}%)\"\n",
    "                cv2.rectangle(vis_image, (x, y), (x + w, y + h), (0, 255, 0), 2) # Green box\n",
    "                # Put text slightly above the box\n",
    "                text_y = y - 10 if y - 10 > 10 else y + 10\n",
    "                cv2.putText(vis_image, label_text, (x, text_y), cv2.FONT_HERSHEY_SIMPLEX,\n",
    "                            0.6, (0, 255, 0), 2) # Green text\n",
    "\n",
    "                print(f\"[RESULT] Face at [{x},{y},{w},{h}]: {emotion_label} ({emotion_confidence:.3f})\")\n",
    "\n",
    "            except cv2.error as e:\n",
    "                print(f\"[WARN] OpenCV error processing face ROI at [{x},{y},{w},{h}]: {e}\")\n",
    "            except IndexError as e:\n",
    "                print(f\"[ERROR] Emotion label index out of bounds. Check EMOTION_LABELS list. Error: {e}\")\n",
    "            except Exception as e:\n",
    "                 print(f\"[WARN] Error during emotion prediction for face at [{x},{y},{w},{h}]: {e}\")\n",
    "\n",
    "\n",
    "    # --- Display Result ---\n",
    "    # Convert final BGR image to RGB for matplotlib display\n",
    "    vis_image_rgb = cv2.cvtColor(vis_image, cv2.COLOR_BGR2RGB)\n",
    "\n",
    "    plt.figure(figsize=(10, 8))\n",
    "    plt.imshow(vis_image_rgb)\n",
    "    plt.title(f\"Emotion Recognition Results ({os.path.basename(image_path)})\")\n",
    "    plt.axis('off')\n",
    "    plt.show()"
   ]
  },
  {
   "cell_type": "code",
   "execution_count": null,
   "id": "e74bef7b-40ba-46f3-a473-c4c6855bd9c7",
   "metadata": {},
   "outputs": [],
   "source": [
    "'''# --- Specify Image Path ---\n",
    "# <<< CHANGE THIS TO YOUR IMAGE FILE >>>\n",
    "# Try both a normal light and a low light image\n",
    "# test_image_path = \"path/to/your/normal_image.jpg\"\n",
    "test_image_path = \"path/to/your/low_light_image.jpg\"\n",
    "# test_image_path = \"path/to/your/another_image.png\"\n",
    "\n",
    "# --- Execute ---\n",
    "if os.path.exists(test_image_path):\n",
    "    if face_detector and emotion_model: # Make sure models loaded correctly\n",
    "        detect_and_predict_emotions(test_image_path, enhance_if_lowlight=True)\n",
    "    else:\n",
    "        print(\"[INFO] Cannot run detection, models did not load properly.\")\n",
    "else:\n",
    "    print(f\"[ERROR] Test image file not found at: {test_image_path}\")\n",
    "    print(\"[INFO] Please update the 'test_image_path' variable in the cell above.\")\n",
    "\n",
    "'''"
   ]
  }
 ],
 "metadata": {
  "kernelspec": {
   "display_name": "Python 3 (ipykernel)",
   "language": "python",
   "name": "python3"
  },
  "language_info": {
   "codemirror_mode": {
    "name": "ipython",
    "version": 3
   },
   "file_extension": ".py",
   "mimetype": "text/x-python",
   "name": "python",
   "nbconvert_exporter": "python",
   "pygments_lexer": "ipython3",
   "version": "3.12.7"
  }
 },
 "nbformat": 4,
 "nbformat_minor": 5
}
